{
  "nbformat": 4,
  "nbformat_minor": 0,
  "metadata": {
    "colab": {
      "name": "AI_Academy_Colab_tutorial.ipynb ",
      "provenance": [],
      "collapsed_sections": []
    },
    "kernelspec": {
      "name": "python3",
      "display_name": "Python 3"
    }
  },
  "cells": [
    {
      "cell_type": "markdown",
      "metadata": {
        "id": "TdCkrRM9ksQ-",
        "colab_type": "text"
      },
      "source": [
        "ピザの直径と価格を使った簡単な単回帰"
      ]
    },
    {
      "cell_type": "code",
      "metadata": {
        "id": "A3sjsR2qDGm8",
        "colab_type": "code",
        "colab": {}
      },
      "source": [
        "### 下記の入力フィールドにプログラムを打ち込み、左の実行ボタンを押す事で書いたコードを実行できます。　###\n",
        "x = [[12],[16],[20],[28],[36]]\n",
        "y = [[700],[900],[1300],[1750],[1800]]\n"
      ],
      "execution_count": 0,
      "outputs": []
    },
    {
      "cell_type": "code",
      "metadata": {
        "id": "asI6gu3yfV7g",
        "colab_type": "code",
        "colab": {
          "base_uri": "https://localhost:8080/",
          "height": 295
        },
        "outputId": "46c0051d-70a0-4543-d83e-7b6d27b3d5ce"
      },
      "source": [
        "import matplotlib.pyplot as plt\n",
        "# matplotlib.pyplotはデータを可視化するライブラリ\n",
        "%matplotlib inline\n",
        "\n",
        "plt.figure()\n",
        "plt.title('Relation between diameter and price') #タイトル\n",
        "plt.xlabel('diameter') #軸のラベル\n",
        "plt.ylabel('price') #軸のラベル\n",
        "plt.scatter(x,y) #散布図の作成\n",
        "plt.axis([0, 50, 0,2500]) #表の最小値、最大値\n",
        "plt.grid(True) #grid線\n",
        "plt.show()"
      ],
      "execution_count": 12,
      "outputs": [
        {
          "output_type": "display_data",
          "data": {
            "image/png": "[encoded data removed]",
            "text/plain": [
              "<Figure size 432x288 with 1 Axes>"
            ]
          },
          "metadata": {
            "tags": []
          }
        }
      ]
    },
    {
      "cell_type": "markdown",
      "metadata": {
        "id": "lFdfBrWHjl6k",
        "colab_type": "text"
      },
      "source": [
        "モデルを構築する"
      ]
    },
    {
      "cell_type": "code",
      "metadata": {
        "id": "yRcX5bZhiC3u",
        "colab_type": "code",
        "colab": {
          "base_uri": "https://localhost:8080/",
          "height": 34
        },
        "outputId": "b2359e8f-4b15-44e0-c3a0-262f28a0f2eb"
      },
      "source": [
        "from sklearn.linear_model import LinearRegression\n",
        "model = LinearRegression() # モデルの指定→回帰モデル\n",
        "model.fit(x,y) # データを学習させる"
      ],
      "execution_count": 14,
      "outputs": [
        {
          "output_type": "execute_result",
          "data": {
            "text/plain": [
              "LinearRegression(copy_X=True, fit_intercept=True, n_jobs=None, normalize=False)"
            ]
          },
          "metadata": {
            "tags": []
          },
          "execution_count": 14
        }
      ]
    },
    {
      "cell_type": "markdown",
      "metadata": {
        "id": "-Z9qQbTzkD2C",
        "colab_type": "text"
      },
      "source": [
        "予測させる"
      ]
    },
    {
      "cell_type": "code",
      "metadata": {
        "id": "AFqPLJlCjiLp",
        "colab_type": "code",
        "colab": {
          "base_uri": "https://localhost:8080/",
          "height": 34
        },
        "outputId": "0cdf7499-73f0-49cc-9ef9-7816c0c96941"
      },
      "source": [
        "import numpy as np\n",
        "price = model.predict(np.array([25]).reshape(-1,1))\n",
        "\n",
        "# price = model.predict(25) # scikit-learnバージョン0.1.9系\n",
        "# もしくは下記の形式です。\n",
        "# price = model.predict([[25]])\n",
        "print('25 cm pizza should cost: $%s'%price[0][0])"
      ],
      "execution_count": 16,
      "outputs": [
        {
          "output_type": "stream",
          "text": [
            "25 cm pizza should cost: $1416.9181034482758\n"
          ],
          "name": "stdout"
        }
      ]
    },
    {
      "cell_type": "markdown",
      "metadata": {
        "id": "b43HhkJ4DaWV",
        "colab_type": "text"
      },
      "source": [
        ""
      ]
    }
  ]
}