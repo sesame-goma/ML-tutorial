{
  "nbformat": 4,
  "nbformat_minor": 0,
  "metadata": {
    "colab": {
      "name": "Ai_academy_tutorial2.ipynb",
      "provenance": [],
      "include_colab_link": true
    },
    "kernelspec": {
      "name": "python3",
      "display_name": "Python 3"
    }
  },
  "cells": [
    {
      "cell_type": "markdown",
      "metadata": {
        "id": "view-in-github",
        "colab_type": "text"
      },
      "source": [
        "<a href=\"https://colab.research.google.com/github/watarutatsuda/ML-tutorial/blob/master/Ai_academy_tutorial2.ipynb\" target=\"_parent\"><img src=\"https://colab.research.google.com/assets/colab-badge.svg\" alt=\"Open In Colab\"/></a>"
      ]
    },
    {
      "cell_type": "markdown",
      "metadata": {
        "id": "gTRpDx6XvIF4",
        "colab_type": "text"
      },
      "source": [
        "重回帰分析\n",
        "（ピザの値段推定）"
      ]
    },
    {
      "cell_type": "code",
      "metadata": {
        "id": "7JezWVPOuqge",
        "colab_type": "code",
        "colab": {
          "base_uri": "https://localhost:8080/",
          "height": 122
        },
        "outputId": "e0dc9ab9-d211-4127-d493-ffce2200a5e2"
      },
      "source": [
        "from sklearn.linear_model import LinearRegression\n",
        "x = [[12,2],[16,1],[20,0],[28,2],[36,0]] # xの第2引数はトッピング数\n",
        "y = [[700],[900],[1300],[1750],[1800]]\n",
        "\n",
        "model = LinearRegression()\n",
        "model.fit(x,y)\n",
        "\n",
        "x_test = [[16,2],[18,0],[22,2],[32,2],[24,0]]\n",
        "y_test = [[1100],[850],[1500],[1800],[1100]]\n",
        "\n",
        "prices = model.predict(x_test) # x_testのデータに対して予測をたてる\n",
        "\n",
        "# enumerate()はfor文の中で配列に対して使用するとindexとnameを取得できる\n",
        "for i, price in enumerate(prices):\n",
        "  print('Pridicted:%s, Target:%s'%(price,y_test[i]))\n",
        "  \n",
        "score = model.score(x_test,y_test)\n",
        "print(\"r-squared:\", score)"
      ],
      "execution_count": 3,
      "outputs": [
        {
          "output_type": "stream",
          "text": [
            "Pridicted:[1006.25], Target:[1100]\n",
            "Pridicted:[1028.125], Target:[850]\n",
            "Pridicted:[1309.375], Target:[1500]\n",
            "Pridicted:[1814.58333333], Target:[1800]\n",
            "Pridicted:[1331.25], Target:[1100]\n",
            "r-squared: 0.7701677731318467\n"
          ],
          "name": "stdout"
        }
      ]
    }
  ]
}